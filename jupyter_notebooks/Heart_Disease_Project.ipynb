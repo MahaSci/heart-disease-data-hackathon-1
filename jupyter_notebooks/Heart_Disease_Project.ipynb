{
  "cells": [
    {
      "cell_type": "markdown",
      "metadata": {
        "id": "0aStgWSO0E0E"
      },
      "source": [
        "# **Heart Disease Data Analytics Project**"
      ]
    },
    {
      "cell_type": "markdown",
      "metadata": {
        "id": "1eLEkw5O0ECa"
      },
      "source": [
        "## Objectives\n",
        "\n",
        "* This goal of this notebook is to analyse health data to understand the relationship and trends of various risk factors such as _diabetes_, _cholesterol_ and _stress_ in relation to heart disease. \n",
        "\n",
        "## Inputs\n",
        "\n",
        "### Data souce\n",
        "* The primary dataset for this project is heart disease data collected from Kaggle intended for research purposes\n",
        "https://www.kaggle.com/datasets/oktayrdeki/heart-disease/data\n",
        "\n",
        "\n",
        "## Outputs\n",
        "\n",
        "* Write here which files, code or artefacts you generate by the end of the notebook \n",
        "\n",
        "## Additional Comments\n",
        "\n",
        "* If you have any additional comments that don't fit in the previous bullets, please state them here. \n",
        "\n"
      ]
    },
    {
      "cell_type": "markdown",
      "metadata": {
        "id": "9uWZXH9LwoQg"
      },
      "source": [
        "---"
      ]
    },
    {
      "cell_type": "markdown",
      "metadata": {
        "id": "-mavJ8DibrcQ"
      },
      "source": [
        "# Section 1 : Design & implement an ETL pipeline"
      ]
    },
    {
      "cell_type": "markdown",
      "metadata": {},
      "source": [
        "## 1.1 Extract: Importing Libraries, Extracting dataset & Truncating \n",
        "\n",
        "* This section involves importing libraries necessary for subsequent data analysis and visualisation tasks.\n",
        "* The pandas library will be utilised in reading the csv data in order to work with it.\n",
        "* The dataset will be limited to the first 300 rows to make analysis more manageable."
      ]
    },
    {
      "cell_type": "code",
      "execution_count": 54,
      "metadata": {},
      "outputs": [],
      "source": [
        "# importing necessary libraries\n",
        "import pandas as pd\n",
        "import numpy as np\n",
        "import seaborn as sns\n",
        "import matplotlib.pyplot as plt\n",
        "import plotly as px\n",
        "\n",
        "# using pandas library to read the csv data in\n",
        "df_full = pd.read_csv('/workspace/heart-disease-data-hackathon-1/jupyter_notebooks/heart_disease.csv')\n",
        "\n",
        "# truncating dataset\n",
        "df = df_full.head(300)\n"
      ]
    },
    {
      "cell_type": "code",
      "execution_count": 55,
      "metadata": {},
      "outputs": [
        {
          "data": {
            "text/html": [
              "<div>\n",
              "<style scoped>\n",
              "    .dataframe tbody tr th:only-of-type {\n",
              "        vertical-align: middle;\n",
              "    }\n",
              "\n",
              "    .dataframe tbody tr th {\n",
              "        vertical-align: top;\n",
              "    }\n",
              "\n",
              "    .dataframe thead th {\n",
              "        text-align: right;\n",
              "    }\n",
              "</style>\n",
              "<table border=\"1\" class=\"dataframe\">\n",
              "  <thead>\n",
              "    <tr style=\"text-align: right;\">\n",
              "      <th></th>\n",
              "      <th>Age</th>\n",
              "      <th>Gender</th>\n",
              "      <th>Blood Pressure</th>\n",
              "      <th>Cholesterol Level</th>\n",
              "      <th>Exercise Habits</th>\n",
              "      <th>Smoking</th>\n",
              "      <th>Family Heart Disease</th>\n",
              "      <th>Diabetes</th>\n",
              "      <th>BMI</th>\n",
              "      <th>High Blood Pressure</th>\n",
              "      <th>...</th>\n",
              "      <th>High LDL Cholesterol</th>\n",
              "      <th>Alcohol Consumption</th>\n",
              "      <th>Stress Level</th>\n",
              "      <th>Sleep Hours</th>\n",
              "      <th>Sugar Consumption</th>\n",
              "      <th>Triglyceride Level</th>\n",
              "      <th>Fasting Blood Sugar</th>\n",
              "      <th>CRP Level</th>\n",
              "      <th>Homocysteine Level</th>\n",
              "      <th>Heart Disease Status</th>\n",
              "    </tr>\n",
              "  </thead>\n",
              "  <tbody>\n",
              "    <tr>\n",
              "      <th>0</th>\n",
              "      <td>56.0</td>\n",
              "      <td>Male</td>\n",
              "      <td>153.0</td>\n",
              "      <td>155.0</td>\n",
              "      <td>High</td>\n",
              "      <td>Yes</td>\n",
              "      <td>Yes</td>\n",
              "      <td>No</td>\n",
              "      <td>24.991591</td>\n",
              "      <td>Yes</td>\n",
              "      <td>...</td>\n",
              "      <td>No</td>\n",
              "      <td>High</td>\n",
              "      <td>Medium</td>\n",
              "      <td>7.633228</td>\n",
              "      <td>Medium</td>\n",
              "      <td>342.0</td>\n",
              "      <td>NaN</td>\n",
              "      <td>12.969246</td>\n",
              "      <td>12.387250</td>\n",
              "      <td>No</td>\n",
              "    </tr>\n",
              "    <tr>\n",
              "      <th>1</th>\n",
              "      <td>69.0</td>\n",
              "      <td>Female</td>\n",
              "      <td>146.0</td>\n",
              "      <td>286.0</td>\n",
              "      <td>High</td>\n",
              "      <td>No</td>\n",
              "      <td>Yes</td>\n",
              "      <td>Yes</td>\n",
              "      <td>25.221799</td>\n",
              "      <td>No</td>\n",
              "      <td>...</td>\n",
              "      <td>No</td>\n",
              "      <td>Medium</td>\n",
              "      <td>High</td>\n",
              "      <td>8.744034</td>\n",
              "      <td>Medium</td>\n",
              "      <td>133.0</td>\n",
              "      <td>157.0</td>\n",
              "      <td>9.355389</td>\n",
              "      <td>19.298875</td>\n",
              "      <td>No</td>\n",
              "    </tr>\n",
              "    <tr>\n",
              "      <th>2</th>\n",
              "      <td>46.0</td>\n",
              "      <td>Male</td>\n",
              "      <td>126.0</td>\n",
              "      <td>216.0</td>\n",
              "      <td>Low</td>\n",
              "      <td>No</td>\n",
              "      <td>No</td>\n",
              "      <td>No</td>\n",
              "      <td>29.855447</td>\n",
              "      <td>No</td>\n",
              "      <td>...</td>\n",
              "      <td>Yes</td>\n",
              "      <td>Low</td>\n",
              "      <td>Low</td>\n",
              "      <td>4.440440</td>\n",
              "      <td>Low</td>\n",
              "      <td>393.0</td>\n",
              "      <td>92.0</td>\n",
              "      <td>12.709873</td>\n",
              "      <td>11.230926</td>\n",
              "      <td>No</td>\n",
              "    </tr>\n",
              "    <tr>\n",
              "      <th>3</th>\n",
              "      <td>32.0</td>\n",
              "      <td>Female</td>\n",
              "      <td>122.0</td>\n",
              "      <td>293.0</td>\n",
              "      <td>High</td>\n",
              "      <td>Yes</td>\n",
              "      <td>Yes</td>\n",
              "      <td>No</td>\n",
              "      <td>24.130477</td>\n",
              "      <td>Yes</td>\n",
              "      <td>...</td>\n",
              "      <td>Yes</td>\n",
              "      <td>Low</td>\n",
              "      <td>High</td>\n",
              "      <td>5.249405</td>\n",
              "      <td>High</td>\n",
              "      <td>293.0</td>\n",
              "      <td>94.0</td>\n",
              "      <td>12.509046</td>\n",
              "      <td>5.961958</td>\n",
              "      <td>No</td>\n",
              "    </tr>\n",
              "    <tr>\n",
              "      <th>4</th>\n",
              "      <td>60.0</td>\n",
              "      <td>Male</td>\n",
              "      <td>166.0</td>\n",
              "      <td>242.0</td>\n",
              "      <td>Low</td>\n",
              "      <td>Yes</td>\n",
              "      <td>Yes</td>\n",
              "      <td>Yes</td>\n",
              "      <td>20.486289</td>\n",
              "      <td>Yes</td>\n",
              "      <td>...</td>\n",
              "      <td>No</td>\n",
              "      <td>Low</td>\n",
              "      <td>High</td>\n",
              "      <td>7.030971</td>\n",
              "      <td>High</td>\n",
              "      <td>263.0</td>\n",
              "      <td>154.0</td>\n",
              "      <td>10.381259</td>\n",
              "      <td>8.153887</td>\n",
              "      <td>No</td>\n",
              "    </tr>\n",
              "  </tbody>\n",
              "</table>\n",
              "<p>5 rows × 21 columns</p>\n",
              "</div>"
            ],
            "text/plain": [
              "    Age  Gender  Blood Pressure  Cholesterol Level Exercise Habits Smoking  \\\n",
              "0  56.0    Male           153.0              155.0            High     Yes   \n",
              "1  69.0  Female           146.0              286.0            High      No   \n",
              "2  46.0    Male           126.0              216.0             Low      No   \n",
              "3  32.0  Female           122.0              293.0            High     Yes   \n",
              "4  60.0    Male           166.0              242.0             Low     Yes   \n",
              "\n",
              "  Family Heart Disease Diabetes        BMI High Blood Pressure  ...  \\\n",
              "0                  Yes       No  24.991591                 Yes  ...   \n",
              "1                  Yes      Yes  25.221799                  No  ...   \n",
              "2                   No       No  29.855447                  No  ...   \n",
              "3                  Yes       No  24.130477                 Yes  ...   \n",
              "4                  Yes      Yes  20.486289                 Yes  ...   \n",
              "\n",
              "  High LDL Cholesterol Alcohol Consumption Stress Level Sleep Hours  \\\n",
              "0                   No                High       Medium    7.633228   \n",
              "1                   No              Medium         High    8.744034   \n",
              "2                  Yes                 Low          Low    4.440440   \n",
              "3                  Yes                 Low         High    5.249405   \n",
              "4                   No                 Low         High    7.030971   \n",
              "\n",
              "   Sugar Consumption Triglyceride Level  Fasting Blood Sugar  CRP Level  \\\n",
              "0             Medium              342.0                  NaN  12.969246   \n",
              "1             Medium              133.0                157.0   9.355389   \n",
              "2                Low              393.0                 92.0  12.709873   \n",
              "3               High              293.0                 94.0  12.509046   \n",
              "4               High              263.0                154.0  10.381259   \n",
              "\n",
              "   Homocysteine Level  Heart Disease Status  \n",
              "0           12.387250                    No  \n",
              "1           19.298875                    No  \n",
              "2           11.230926                    No  \n",
              "3            5.961958                    No  \n",
              "4            8.153887                    No  \n",
              "\n",
              "[5 rows x 21 columns]"
            ]
          },
          "execution_count": 55,
          "metadata": {},
          "output_type": "execute_result"
        }
      ],
      "source": [
        "# displaying the first 5 rows\n",
        "df.head()"
      ]
    },
    {
      "cell_type": "code",
      "execution_count": 56,
      "metadata": {},
      "outputs": [
        {
          "data": {
            "text/html": [
              "<div>\n",
              "<style scoped>\n",
              "    .dataframe tbody tr th:only-of-type {\n",
              "        vertical-align: middle;\n",
              "    }\n",
              "\n",
              "    .dataframe tbody tr th {\n",
              "        vertical-align: top;\n",
              "    }\n",
              "\n",
              "    .dataframe thead th {\n",
              "        text-align: right;\n",
              "    }\n",
              "</style>\n",
              "<table border=\"1\" class=\"dataframe\">\n",
              "  <thead>\n",
              "    <tr style=\"text-align: right;\">\n",
              "      <th></th>\n",
              "      <th>Age</th>\n",
              "      <th>Gender</th>\n",
              "      <th>Blood Pressure</th>\n",
              "      <th>Cholesterol Level</th>\n",
              "      <th>Exercise Habits</th>\n",
              "      <th>Smoking</th>\n",
              "      <th>Family Heart Disease</th>\n",
              "      <th>Diabetes</th>\n",
              "      <th>BMI</th>\n",
              "      <th>High Blood Pressure</th>\n",
              "      <th>...</th>\n",
              "      <th>High LDL Cholesterol</th>\n",
              "      <th>Alcohol Consumption</th>\n",
              "      <th>Stress Level</th>\n",
              "      <th>Sleep Hours</th>\n",
              "      <th>Sugar Consumption</th>\n",
              "      <th>Triglyceride Level</th>\n",
              "      <th>Fasting Blood Sugar</th>\n",
              "      <th>CRP Level</th>\n",
              "      <th>Homocysteine Level</th>\n",
              "      <th>Heart Disease Status</th>\n",
              "    </tr>\n",
              "  </thead>\n",
              "  <tbody>\n",
              "    <tr>\n",
              "      <th>295</th>\n",
              "      <td>49.0</td>\n",
              "      <td>Female</td>\n",
              "      <td>156.0</td>\n",
              "      <td>205.0</td>\n",
              "      <td>Medium</td>\n",
              "      <td>Yes</td>\n",
              "      <td>No</td>\n",
              "      <td>Yes</td>\n",
              "      <td>31.109300</td>\n",
              "      <td>Yes</td>\n",
              "      <td>...</td>\n",
              "      <td>No</td>\n",
              "      <td>None</td>\n",
              "      <td>Low</td>\n",
              "      <td>4.770133</td>\n",
              "      <td>Low</td>\n",
              "      <td>384.0</td>\n",
              "      <td>114.0</td>\n",
              "      <td>2.060411</td>\n",
              "      <td>19.844481</td>\n",
              "      <td>No</td>\n",
              "    </tr>\n",
              "    <tr>\n",
              "      <th>296</th>\n",
              "      <td>50.0</td>\n",
              "      <td>Male</td>\n",
              "      <td>127.0</td>\n",
              "      <td>249.0</td>\n",
              "      <td>Low</td>\n",
              "      <td>Yes</td>\n",
              "      <td>Yes</td>\n",
              "      <td>Yes</td>\n",
              "      <td>38.003751</td>\n",
              "      <td>No</td>\n",
              "      <td>...</td>\n",
              "      <td>No</td>\n",
              "      <td>None</td>\n",
              "      <td>Medium</td>\n",
              "      <td>7.589454</td>\n",
              "      <td>High</td>\n",
              "      <td>105.0</td>\n",
              "      <td>138.0</td>\n",
              "      <td>4.506362</td>\n",
              "      <td>10.357272</td>\n",
              "      <td>No</td>\n",
              "    </tr>\n",
              "    <tr>\n",
              "      <th>297</th>\n",
              "      <td>18.0</td>\n",
              "      <td>Male</td>\n",
              "      <td>146.0</td>\n",
              "      <td>294.0</td>\n",
              "      <td>Low</td>\n",
              "      <td>Yes</td>\n",
              "      <td>Yes</td>\n",
              "      <td>Yes</td>\n",
              "      <td>32.603794</td>\n",
              "      <td>Yes</td>\n",
              "      <td>...</td>\n",
              "      <td>No</td>\n",
              "      <td>None</td>\n",
              "      <td>Medium</td>\n",
              "      <td>5.699796</td>\n",
              "      <td>Low</td>\n",
              "      <td>123.0</td>\n",
              "      <td>130.0</td>\n",
              "      <td>5.398184</td>\n",
              "      <td>15.424034</td>\n",
              "      <td>No</td>\n",
              "    </tr>\n",
              "    <tr>\n",
              "      <th>298</th>\n",
              "      <td>36.0</td>\n",
              "      <td>Female</td>\n",
              "      <td>166.0</td>\n",
              "      <td>159.0</td>\n",
              "      <td>Medium</td>\n",
              "      <td>Yes</td>\n",
              "      <td>Yes</td>\n",
              "      <td>Yes</td>\n",
              "      <td>28.545066</td>\n",
              "      <td>No</td>\n",
              "      <td>...</td>\n",
              "      <td>Yes</td>\n",
              "      <td>Low</td>\n",
              "      <td>Medium</td>\n",
              "      <td>9.573139</td>\n",
              "      <td>Low</td>\n",
              "      <td>247.0</td>\n",
              "      <td>137.0</td>\n",
              "      <td>4.195578</td>\n",
              "      <td>12.310546</td>\n",
              "      <td>No</td>\n",
              "    </tr>\n",
              "    <tr>\n",
              "      <th>299</th>\n",
              "      <td>79.0</td>\n",
              "      <td>Male</td>\n",
              "      <td>178.0</td>\n",
              "      <td>193.0</td>\n",
              "      <td>High</td>\n",
              "      <td>No</td>\n",
              "      <td>No</td>\n",
              "      <td>Yes</td>\n",
              "      <td>20.360277</td>\n",
              "      <td>No</td>\n",
              "      <td>...</td>\n",
              "      <td>No</td>\n",
              "      <td>None</td>\n",
              "      <td>High</td>\n",
              "      <td>6.858099</td>\n",
              "      <td>High</td>\n",
              "      <td>308.0</td>\n",
              "      <td>91.0</td>\n",
              "      <td>11.888349</td>\n",
              "      <td>15.723837</td>\n",
              "      <td>No</td>\n",
              "    </tr>\n",
              "  </tbody>\n",
              "</table>\n",
              "<p>5 rows × 21 columns</p>\n",
              "</div>"
            ],
            "text/plain": [
              "      Age  Gender  Blood Pressure  Cholesterol Level Exercise Habits Smoking  \\\n",
              "295  49.0  Female           156.0              205.0          Medium     Yes   \n",
              "296  50.0    Male           127.0              249.0             Low     Yes   \n",
              "297  18.0    Male           146.0              294.0             Low     Yes   \n",
              "298  36.0  Female           166.0              159.0          Medium     Yes   \n",
              "299  79.0    Male           178.0              193.0            High      No   \n",
              "\n",
              "    Family Heart Disease Diabetes        BMI High Blood Pressure  ...  \\\n",
              "295                   No      Yes  31.109300                 Yes  ...   \n",
              "296                  Yes      Yes  38.003751                  No  ...   \n",
              "297                  Yes      Yes  32.603794                 Yes  ...   \n",
              "298                  Yes      Yes  28.545066                  No  ...   \n",
              "299                   No      Yes  20.360277                  No  ...   \n",
              "\n",
              "    High LDL Cholesterol Alcohol Consumption Stress Level Sleep Hours  \\\n",
              "295                   No                None          Low    4.770133   \n",
              "296                   No                None       Medium    7.589454   \n",
              "297                   No                None       Medium    5.699796   \n",
              "298                  Yes                 Low       Medium    9.573139   \n",
              "299                   No                None         High    6.858099   \n",
              "\n",
              "     Sugar Consumption Triglyceride Level  Fasting Blood Sugar  CRP Level  \\\n",
              "295                Low              384.0                114.0   2.060411   \n",
              "296               High              105.0                138.0   4.506362   \n",
              "297                Low              123.0                130.0   5.398184   \n",
              "298                Low              247.0                137.0   4.195578   \n",
              "299               High              308.0                 91.0  11.888349   \n",
              "\n",
              "     Homocysteine Level  Heart Disease Status  \n",
              "295           19.844481                    No  \n",
              "296           10.357272                    No  \n",
              "297           15.424034                    No  \n",
              "298           12.310546                    No  \n",
              "299           15.723837                    No  \n",
              "\n",
              "[5 rows x 21 columns]"
            ]
          },
          "execution_count": 56,
          "metadata": {},
          "output_type": "execute_result"
        }
      ],
      "source": [
        "# displaying the last 5 rows\n",
        "df.tail()"
      ]
    },
    {
      "cell_type": "markdown",
      "metadata": {
        "id": "ZY3l0-AxO93d"
      },
      "source": [
        "---"
      ]
    },
    {
      "cell_type": "markdown",
      "metadata": {},
      "source": [
        "## 1.2 Transform: Data cleaning & Pre-processing\n",
        "\n",
        "* This section involves handling missing, duplicate and invalid values.\n",
        "* Checks will be done to ensure each attribute has a data type suitable for further analysis.\n",
        "* Outlier values will be identified and discarded."
      ]
    },
    {
      "cell_type": "markdown",
      "metadata": {},
      "source": [
        "#### 1.2.1 Overview of initial state of dataset"
      ]
    },
    {
      "cell_type": "code",
      "execution_count": 57,
      "metadata": {},
      "outputs": [
        {
          "name": "stdout",
          "output_type": "stream",
          "text": [
            "<class 'pandas.core.frame.DataFrame'>\n",
            "RangeIndex: 300 entries, 0 to 299\n",
            "Data columns (total 21 columns):\n",
            " #   Column                Non-Null Count  Dtype  \n",
            "---  ------                --------------  -----  \n",
            " 0   Age                   300 non-null    float64\n",
            " 1   Gender                300 non-null    object \n",
            " 2   Blood Pressure        298 non-null    float64\n",
            " 3   Cholesterol Level     296 non-null    float64\n",
            " 4   Exercise Habits       300 non-null    object \n",
            " 5   Smoking               299 non-null    object \n",
            " 6   Family Heart Disease  299 non-null    object \n",
            " 7   Diabetes              299 non-null    object \n",
            " 8   BMI                   298 non-null    float64\n",
            " 9   High Blood Pressure   299 non-null    object \n",
            " 10  Low HDL Cholesterol   299 non-null    object \n",
            " 11  High LDL Cholesterol  300 non-null    object \n",
            " 12  Alcohol Consumption   299 non-null    object \n",
            " 13  Stress Level          297 non-null    object \n",
            " 14  Sleep Hours           299 non-null    float64\n",
            " 15  Sugar Consumption     298 non-null    object \n",
            " 16  Triglyceride Level    299 non-null    float64\n",
            " 17  Fasting Blood Sugar   298 non-null    float64\n",
            " 18  CRP Level             297 non-null    float64\n",
            " 19  Homocysteine Level    299 non-null    float64\n",
            " 20  Heart Disease Status  300 non-null    object \n",
            "dtypes: float64(9), object(12)\n",
            "memory usage: 49.3+ KB\n"
          ]
        }
      ],
      "source": [
        "# overview of rows and columns of the data\n",
        "df.shape\n",
        "df.info()"
      ]
    },
    {
      "cell_type": "code",
      "execution_count": 58,
      "metadata": {},
      "outputs": [
        {
          "data": {
            "text/plain": [
              "Index(['Age', 'Gender', 'Blood Pressure', 'Cholesterol Level',\n",
              "       'Exercise Habits', 'Smoking', 'Family Heart Disease', 'Diabetes', 'BMI',\n",
              "       'High Blood Pressure', 'Low HDL Cholesterol', 'High LDL Cholesterol',\n",
              "       'Alcohol Consumption', 'Stress Level', 'Sleep Hours',\n",
              "       'Sugar Consumption', 'Triglyceride Level', 'Fasting Blood Sugar',\n",
              "       'CRP Level', 'Homocysteine Level', 'Heart Disease Status'],\n",
              "      dtype='object')"
            ]
          },
          "execution_count": 58,
          "metadata": {},
          "output_type": "execute_result"
        }
      ],
      "source": [
        "# view all columns in data set\n",
        "df.columns"
      ]
    },
    {
      "cell_type": "code",
      "execution_count": 59,
      "metadata": {},
      "outputs": [
        {
          "data": {
            "text/plain": [
              "Age                     float64\n",
              "Gender                   object\n",
              "Blood Pressure          float64\n",
              "Cholesterol Level       float64\n",
              "Exercise Habits          object\n",
              "Smoking                  object\n",
              "Family Heart Disease     object\n",
              "Diabetes                 object\n",
              "BMI                     float64\n",
              "High Blood Pressure      object\n",
              "Low HDL Cholesterol      object\n",
              "High LDL Cholesterol     object\n",
              "Alcohol Consumption      object\n",
              "Stress Level             object\n",
              "Sleep Hours             float64\n",
              "Sugar Consumption        object\n",
              "Triglyceride Level      float64\n",
              "Fasting Blood Sugar     float64\n",
              "CRP Level               float64\n",
              "Homocysteine Level      float64\n",
              "Heart Disease Status     object\n",
              "dtype: object"
            ]
          },
          "execution_count": 59,
          "metadata": {},
          "output_type": "execute_result"
        }
      ],
      "source": [
        "# check data types of each column\n",
        "df.dtypes"
      ]
    },
    {
      "cell_type": "markdown",
      "metadata": {},
      "source": [
        "Having cross referenced against the data columns,  each attribute has a valid data type for processing - attributes consist of categorical attributes (object) and numerical attributes (float64) inline with expected values"
      ]
    },
    {
      "cell_type": "markdown",
      "metadata": {},
      "source": [
        "#### 1.2.2 Identifying missing & automated checking of duplicate data"
      ]
    },
    {
      "cell_type": "code",
      "execution_count": 60,
      "metadata": {},
      "outputs": [
        {
          "data": {
            "text/plain": [
              "Age                     0\n",
              "Gender                  0\n",
              "Blood Pressure          2\n",
              "Cholesterol Level       4\n",
              "Exercise Habits         0\n",
              "Smoking                 1\n",
              "Family Heart Disease    1\n",
              "Diabetes                1\n",
              "BMI                     2\n",
              "High Blood Pressure     1\n",
              "Low HDL Cholesterol     1\n",
              "High LDL Cholesterol    0\n",
              "Alcohol Consumption     1\n",
              "Stress Level            3\n",
              "Sleep Hours             1\n",
              "Sugar Consumption       2\n",
              "Triglyceride Level      1\n",
              "Fasting Blood Sugar     2\n",
              "CRP Level               3\n",
              "Homocysteine Level      1\n",
              "Heart Disease Status    0\n",
              "dtype: int64"
            ]
          },
          "execution_count": 60,
          "metadata": {},
          "output_type": "execute_result"
        }
      ],
      "source": [
        "# Identifying missing values\n",
        "df.isnull().sum()"
      ]
    },
    {
      "cell_type": "code",
      "execution_count": 61,
      "metadata": {},
      "outputs": [
        {
          "data": {
            "text/plain": [
              "(273, 21)"
            ]
          },
          "execution_count": 61,
          "metadata": {},
          "output_type": "execute_result"
        }
      ],
      "source": [
        "# having identified our missing values we will use the dropna function to remove the rows containing missing values.\n",
        "df = df.dropna()\n",
        "\n",
        "# to confirm this action we will check for null values and view the shape of the data to verify this.\n",
        "df.isnull().sum()\n",
        "df.shape"
      ]
    },
    {
      "cell_type": "code",
      "execution_count": 62,
      "metadata": {},
      "outputs": [
        {
          "name": "stdout",
          "output_type": "stream",
          "text": [
            "There are 0 rows with duplicate data.\n"
          ]
        }
      ],
      "source": [
        "# automated checking for duplicates\n",
        "\n",
        "def checkDuplicates(df):   \n",
        "    duplicate_data = df.duplicated().sum()\n",
        "    return duplicate_data\n",
        "\n",
        "print(f\"There are {duplicate_data} rows with duplicate data.\")"
      ]
    },
    {
      "cell_type": "markdown",
      "metadata": {},
      "source": [
        "Here we have verified that there are no longer rows with missing values or duplicate rows."
      ]
    },
    {
      "cell_type": "markdown",
      "metadata": {},
      "source": [
        "#### 1.2.3 Summary Statistics"
      ]
    },
    {
      "cell_type": "code",
      "execution_count": 63,
      "metadata": {},
      "outputs": [
        {
          "data": {
            "text/html": [
              "<div>\n",
              "<style scoped>\n",
              "    .dataframe tbody tr th:only-of-type {\n",
              "        vertical-align: middle;\n",
              "    }\n",
              "\n",
              "    .dataframe tbody tr th {\n",
              "        vertical-align: top;\n",
              "    }\n",
              "\n",
              "    .dataframe thead th {\n",
              "        text-align: right;\n",
              "    }\n",
              "</style>\n",
              "<table border=\"1\" class=\"dataframe\">\n",
              "  <thead>\n",
              "    <tr style=\"text-align: right;\">\n",
              "      <th></th>\n",
              "      <th>Age</th>\n",
              "      <th>Blood Pressure</th>\n",
              "      <th>Cholesterol Level</th>\n",
              "      <th>BMI</th>\n",
              "      <th>Sleep Hours</th>\n",
              "      <th>Triglyceride Level</th>\n",
              "      <th>Fasting Blood Sugar</th>\n",
              "      <th>CRP Level</th>\n",
              "      <th>Homocysteine Level</th>\n",
              "    </tr>\n",
              "  </thead>\n",
              "  <tbody>\n",
              "    <tr>\n",
              "      <th>count</th>\n",
              "      <td>273.000000</td>\n",
              "      <td>273.000000</td>\n",
              "      <td>273.000000</td>\n",
              "      <td>273.000000</td>\n",
              "      <td>273.000000</td>\n",
              "      <td>273.000000</td>\n",
              "      <td>273.000000</td>\n",
              "      <td>273.000000</td>\n",
              "      <td>273.000000</td>\n",
              "    </tr>\n",
              "    <tr>\n",
              "      <th>mean</th>\n",
              "      <td>50.483516</td>\n",
              "      <td>150.432234</td>\n",
              "      <td>224.926740</td>\n",
              "      <td>28.568530</td>\n",
              "      <td>7.016522</td>\n",
              "      <td>248.424908</td>\n",
              "      <td>119.516484</td>\n",
              "      <td>7.712289</td>\n",
              "      <td>12.086196</td>\n",
              "    </tr>\n",
              "    <tr>\n",
              "      <th>std</th>\n",
              "      <td>19.058557</td>\n",
              "      <td>17.388404</td>\n",
              "      <td>43.933963</td>\n",
              "      <td>6.201922</td>\n",
              "      <td>1.738665</td>\n",
              "      <td>87.472448</td>\n",
              "      <td>23.603042</td>\n",
              "      <td>4.169992</td>\n",
              "      <td>4.280007</td>\n",
              "    </tr>\n",
              "    <tr>\n",
              "      <th>min</th>\n",
              "      <td>18.000000</td>\n",
              "      <td>120.000000</td>\n",
              "      <td>151.000000</td>\n",
              "      <td>18.042332</td>\n",
              "      <td>4.002662</td>\n",
              "      <td>101.000000</td>\n",
              "      <td>80.000000</td>\n",
              "      <td>0.028436</td>\n",
              "      <td>5.040321</td>\n",
              "    </tr>\n",
              "    <tr>\n",
              "      <th>25%</th>\n",
              "      <td>34.000000</td>\n",
              "      <td>136.000000</td>\n",
              "      <td>190.000000</td>\n",
              "      <td>23.102313</td>\n",
              "      <td>5.509378</td>\n",
              "      <td>176.000000</td>\n",
              "      <td>97.000000</td>\n",
              "      <td>4.377274</td>\n",
              "      <td>8.438324</td>\n",
              "    </tr>\n",
              "    <tr>\n",
              "      <th>50%</th>\n",
              "      <td>51.000000</td>\n",
              "      <td>151.000000</td>\n",
              "      <td>222.000000</td>\n",
              "      <td>28.595191</td>\n",
              "      <td>7.030971</td>\n",
              "      <td>247.000000</td>\n",
              "      <td>121.000000</td>\n",
              "      <td>7.684604</td>\n",
              "      <td>11.780861</td>\n",
              "    </tr>\n",
              "    <tr>\n",
              "      <th>75%</th>\n",
              "      <td>68.000000</td>\n",
              "      <td>167.000000</td>\n",
              "      <td>263.000000</td>\n",
              "      <td>33.565671</td>\n",
              "      <td>8.452879</td>\n",
              "      <td>316.000000</td>\n",
              "      <td>139.000000</td>\n",
              "      <td>11.435050</td>\n",
              "      <td>15.192159</td>\n",
              "    </tr>\n",
              "    <tr>\n",
              "      <th>max</th>\n",
              "      <td>80.000000</td>\n",
              "      <td>180.000000</td>\n",
              "      <td>300.000000</td>\n",
              "      <td>39.951352</td>\n",
              "      <td>9.996252</td>\n",
              "      <td>399.000000</td>\n",
              "      <td>160.000000</td>\n",
              "      <td>14.938232</td>\n",
              "      <td>19.993292</td>\n",
              "    </tr>\n",
              "  </tbody>\n",
              "</table>\n",
              "</div>"
            ],
            "text/plain": [
              "              Age  Blood Pressure  Cholesterol Level         BMI  Sleep Hours  \\\n",
              "count  273.000000      273.000000         273.000000  273.000000   273.000000   \n",
              "mean    50.483516      150.432234         224.926740   28.568530     7.016522   \n",
              "std     19.058557       17.388404          43.933963    6.201922     1.738665   \n",
              "min     18.000000      120.000000         151.000000   18.042332     4.002662   \n",
              "25%     34.000000      136.000000         190.000000   23.102313     5.509378   \n",
              "50%     51.000000      151.000000         222.000000   28.595191     7.030971   \n",
              "75%     68.000000      167.000000         263.000000   33.565671     8.452879   \n",
              "max     80.000000      180.000000         300.000000   39.951352     9.996252   \n",
              "\n",
              "       Triglyceride Level  Fasting Blood Sugar   CRP Level  Homocysteine Level  \n",
              "count          273.000000           273.000000  273.000000          273.000000  \n",
              "mean           248.424908           119.516484    7.712289           12.086196  \n",
              "std             87.472448            23.603042    4.169992            4.280007  \n",
              "min            101.000000            80.000000    0.028436            5.040321  \n",
              "25%            176.000000            97.000000    4.377274            8.438324  \n",
              "50%            247.000000           121.000000    7.684604           11.780861  \n",
              "75%            316.000000           139.000000   11.435050           15.192159  \n",
              "max            399.000000           160.000000   14.938232           19.993292  "
            ]
          },
          "execution_count": 63,
          "metadata": {},
          "output_type": "execute_result"
        }
      ],
      "source": [
        "# In order to get an overview of the data spread we will use summary statistics\n",
        "df.describe()"
      ]
    },
    {
      "cell_type": "markdown",
      "metadata": {},
      "source": [
        "#### 1.2.4 Identifying outlier values\n",
        "* We can identify outliers by using visualisation methods such as box plots for numerical attributes and count plots for categorical"
      ]
    },
    {
      "cell_type": "code",
      "execution_count": 68,
      "metadata": {},
      "outputs": [
        {
          "data": {
            "image/png": "[encoded data removed]",
            "text/plain": [
              "<Figure size 300x100 with 1 Axes>"
            ]
          },
          "metadata": {},
          "output_type": "display_data"
        },
        {
          "data": {
            "image/png": "[encoded data removed]",
            "text/plain": [
              "<Figure size 300x100 with 1 Axes>"
            ]
          },
          "metadata": {},
          "output_type": "display_data"
        },
        {
          "data": {
            "image/png": "[encoded data removed]",
            "text/plain": [
              "<Figure size 300x100 with 1 Axes>"
            ]
          },
          "metadata": {},
          "output_type": "display_data"
        },
        {
          "data": {
            "image/png": "[encoded data removed]",
            "text/plain": [
              "<Figure size 300x100 with 1 Axes>"
            ]
          },
          "metadata": {},
          "output_type": "display_data"
        },
        {
          "data": {
            "image/png": "[encoded data removed]",
            "text/plain": [
              "<Figure size 300x100 with 1 Axes>"
            ]
          },
          "metadata": {},
          "output_type": "display_data"
        },
        {
          "data": {
            "image/png": "[encoded data removed]",
            "text/plain": [
              "<Figure size 300x100 with 1 Axes>"
            ]
          },
          "metadata": {},
          "output_type": "display_data"
        },
        {
          "data": {
            "image/png": "[encoded data removed]",
            "text/plain": [
              "<Figure size 300x100 with 1 Axes>"
            ]
          },
          "metadata": {},
          "output_type": "display_data"
        },
        {
          "data": {
            "image/png": "[encoded data removed]",
            "text/plain": [
              "<Figure size 300x100 with 1 Axes>"
            ]
          },
          "metadata": {},
          "output_type": "display_data"
        },
        {
          "data": {
            "image/png": "[encoded data removed]",
            "text/plain": [
              "<Figure size 300x100 with 1 Axes>"
            ]
          },
          "metadata": {},
          "output_type": "display_data"
        }
      ],
      "source": [
        "numerical_attributes = df.select_dtypes(include=['number']).columns\n",
        "\n",
        "for col in numerical_attributes:\n",
        "    plt.figure(figsize=(3,1))\n",
        "    sns.boxplot(x=df[col])\n",
        "    plt.title(f\"box plot of {col}\")\n",
        "    plt.show()"
      ]
    },
    {
      "cell_type": "markdown",
      "metadata": {},
      "source": [
        "#### 1.2.5 ....\n",
        "..."
      ]
    },
    {
      "cell_type": "markdown",
      "metadata": {},
      "source": [
        "## 1.3 Load: Storing Processed Data into CSV\n",
        "\n",
        "* This section involves...."
      ]
    },
    {
      "cell_type": "markdown",
      "metadata": {},
      "source": [
        "# Section 2: Visualising data using matplotlib, seaborn & plotly"
      ]
    }
  ],
  "metadata": {
    "accelerator": "GPU",
    "colab": {
      "name": "Data Practitioner Jupyter Notebook.ipynb",
      "provenance": [],
      "toc_visible": true
    },
    "kernelspec": {
      "display_name": "Python 3",
      "language": "python",
      "name": "python3"
    },
    "language_info": {
      "codemirror_mode": {
        "name": "ipython",
        "version": 3
      },
      "file_extension": ".py",
      "mimetype": "text/x-python",
      "name": "python",
      "nbconvert_exporter": "python",
      "pygments_lexer": "ipython3",
      "version": "3.9.20"
    },
    "orig_nbformat": 2
  },
  "nbformat": 4,
  "nbformat_minor": 2
}
