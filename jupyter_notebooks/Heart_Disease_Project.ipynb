{
  "cells": [
    {
      "cell_type": "markdown",
      "metadata": {
        "id": "0aStgWSO0E0E"
      },
      "source": [
        "# **Heart Disease Data Analytics Project**"
      ]
    },
    {
      "cell_type": "markdown",
      "metadata": {
        "id": "1eLEkw5O0ECa"
      },
      "source": [
        "## Objectives\n",
        "\n",
        "* This goal of this notebook is to analyse health data to understand the relationship and trends of various risk factors such as _diabetes_, _cholesterol_ and _stress_ in relation to heart disease. \n",
        "\n",
        "## Inputs\n",
        "\n",
        "### Data souce\n",
        "* The primary dataset for this project is heart disease data collected from Kaggle intended for research purposes\n",
        "https://www.kaggle.com/datasets/oktayrdeki/heart-disease/data\n",
        "\n",
        "\n",
        "## Outputs\n",
        "\n",
        "* Write here which files, code or artefacts you generate by the end of the notebook \n",
        "\n",
        "## Additional Comments\n",
        "\n",
        "* If you have any additional comments that don't fit in the previous bullets, please state them here. \n",
        "\n"
      ]
    },
    {
      "cell_type": "markdown",
      "metadata": {
        "id": "9uWZXH9LwoQg"
      },
      "source": [
        "---"
      ]
    },
    {
      "cell_type": "markdown",
      "metadata": {
        "id": "-mavJ8DibrcQ"
      },
      "source": [
        "# Section 1 : Design & implement an ETL pipeline"
      ]
    },
    {
      "cell_type": "markdown",
      "metadata": {},
      "source": [
        "## 1.1 Extract: Importing Libraries, Extracting dataset & Truncating \n",
        "\n",
        "* This section involves importing libraries necessary for subsequent data analysis and visualisation tasks.\n",
        "* The pandas library will be utilised in reading the csv data in order to work with it.\n",
        "* The dataset will be limited to the first 300 rows to make analysis more manageable."
      ]
    },
    {
      "cell_type": "code",
      "execution_count": 12,
      "metadata": {},
      "outputs": [
        {
          "data": {
            "text/html": [
              "<div>\n",
              "<style scoped>\n",
              "    .dataframe tbody tr th:only-of-type {\n",
              "        vertical-align: middle;\n",
              "    }\n",
              "\n",
              "    .dataframe tbody tr th {\n",
              "        vertical-align: top;\n",
              "    }\n",
              "\n",
              "    .dataframe thead th {\n",
              "        text-align: right;\n",
              "    }\n",
              "</style>\n",
              "<table border=\"1\" class=\"dataframe\">\n",
              "  <thead>\n",
              "    <tr style=\"text-align: right;\">\n",
              "      <th></th>\n",
              "      <th>Age</th>\n",
              "      <th>Gender</th>\n",
              "      <th>Blood Pressure</th>\n",
              "      <th>Cholesterol Level</th>\n",
              "      <th>Exercise Habits</th>\n",
              "      <th>Smoking</th>\n",
              "      <th>Family Heart Disease</th>\n",
              "      <th>Diabetes</th>\n",
              "      <th>BMI</th>\n",
              "      <th>High Blood Pressure</th>\n",
              "      <th>...</th>\n",
              "      <th>High LDL Cholesterol</th>\n",
              "      <th>Alcohol Consumption</th>\n",
              "      <th>Stress Level</th>\n",
              "      <th>Sleep Hours</th>\n",
              "      <th>Sugar Consumption</th>\n",
              "      <th>Triglyceride Level</th>\n",
              "      <th>Fasting Blood Sugar</th>\n",
              "      <th>CRP Level</th>\n",
              "      <th>Homocysteine Level</th>\n",
              "      <th>Heart Disease Status</th>\n",
              "    </tr>\n",
              "  </thead>\n",
              "  <tbody>\n",
              "    <tr>\n",
              "      <th>0</th>\n",
              "      <td>56.0</td>\n",
              "      <td>Male</td>\n",
              "      <td>153.0</td>\n",
              "      <td>155.0</td>\n",
              "      <td>High</td>\n",
              "      <td>Yes</td>\n",
              "      <td>Yes</td>\n",
              "      <td>No</td>\n",
              "      <td>24.991591</td>\n",
              "      <td>Yes</td>\n",
              "      <td>...</td>\n",
              "      <td>No</td>\n",
              "      <td>High</td>\n",
              "      <td>Medium</td>\n",
              "      <td>7.633228</td>\n",
              "      <td>Medium</td>\n",
              "      <td>342.0</td>\n",
              "      <td>NaN</td>\n",
              "      <td>12.969246</td>\n",
              "      <td>12.387250</td>\n",
              "      <td>No</td>\n",
              "    </tr>\n",
              "    <tr>\n",
              "      <th>1</th>\n",
              "      <td>69.0</td>\n",
              "      <td>Female</td>\n",
              "      <td>146.0</td>\n",
              "      <td>286.0</td>\n",
              "      <td>High</td>\n",
              "      <td>No</td>\n",
              "      <td>Yes</td>\n",
              "      <td>Yes</td>\n",
              "      <td>25.221799</td>\n",
              "      <td>No</td>\n",
              "      <td>...</td>\n",
              "      <td>No</td>\n",
              "      <td>Medium</td>\n",
              "      <td>High</td>\n",
              "      <td>8.744034</td>\n",
              "      <td>Medium</td>\n",
              "      <td>133.0</td>\n",
              "      <td>157.0</td>\n",
              "      <td>9.355389</td>\n",
              "      <td>19.298875</td>\n",
              "      <td>No</td>\n",
              "    </tr>\n",
              "    <tr>\n",
              "      <th>2</th>\n",
              "      <td>46.0</td>\n",
              "      <td>Male</td>\n",
              "      <td>126.0</td>\n",
              "      <td>216.0</td>\n",
              "      <td>Low</td>\n",
              "      <td>No</td>\n",
              "      <td>No</td>\n",
              "      <td>No</td>\n",
              "      <td>29.855447</td>\n",
              "      <td>No</td>\n",
              "      <td>...</td>\n",
              "      <td>Yes</td>\n",
              "      <td>Low</td>\n",
              "      <td>Low</td>\n",
              "      <td>4.440440</td>\n",
              "      <td>Low</td>\n",
              "      <td>393.0</td>\n",
              "      <td>92.0</td>\n",
              "      <td>12.709873</td>\n",
              "      <td>11.230926</td>\n",
              "      <td>No</td>\n",
              "    </tr>\n",
              "    <tr>\n",
              "      <th>3</th>\n",
              "      <td>32.0</td>\n",
              "      <td>Female</td>\n",
              "      <td>122.0</td>\n",
              "      <td>293.0</td>\n",
              "      <td>High</td>\n",
              "      <td>Yes</td>\n",
              "      <td>Yes</td>\n",
              "      <td>No</td>\n",
              "      <td>24.130477</td>\n",
              "      <td>Yes</td>\n",
              "      <td>...</td>\n",
              "      <td>Yes</td>\n",
              "      <td>Low</td>\n",
              "      <td>High</td>\n",
              "      <td>5.249405</td>\n",
              "      <td>High</td>\n",
              "      <td>293.0</td>\n",
              "      <td>94.0</td>\n",
              "      <td>12.509046</td>\n",
              "      <td>5.961958</td>\n",
              "      <td>No</td>\n",
              "    </tr>\n",
              "    <tr>\n",
              "      <th>4</th>\n",
              "      <td>60.0</td>\n",
              "      <td>Male</td>\n",
              "      <td>166.0</td>\n",
              "      <td>242.0</td>\n",
              "      <td>Low</td>\n",
              "      <td>Yes</td>\n",
              "      <td>Yes</td>\n",
              "      <td>Yes</td>\n",
              "      <td>20.486289</td>\n",
              "      <td>Yes</td>\n",
              "      <td>...</td>\n",
              "      <td>No</td>\n",
              "      <td>Low</td>\n",
              "      <td>High</td>\n",
              "      <td>7.030971</td>\n",
              "      <td>High</td>\n",
              "      <td>263.0</td>\n",
              "      <td>154.0</td>\n",
              "      <td>10.381259</td>\n",
              "      <td>8.153887</td>\n",
              "      <td>No</td>\n",
              "    </tr>\n",
              "  </tbody>\n",
              "</table>\n",
              "<p>5 rows × 21 columns</p>\n",
              "</div>"
            ],
            "text/plain": [
              "    Age  Gender  Blood Pressure  Cholesterol Level Exercise Habits Smoking  \\\n",
              "0  56.0    Male           153.0              155.0            High     Yes   \n",
              "1  69.0  Female           146.0              286.0            High      No   \n",
              "2  46.0    Male           126.0              216.0             Low      No   \n",
              "3  32.0  Female           122.0              293.0            High     Yes   \n",
              "4  60.0    Male           166.0              242.0             Low     Yes   \n",
              "\n",
              "  Family Heart Disease Diabetes        BMI High Blood Pressure  ...  \\\n",
              "0                  Yes       No  24.991591                 Yes  ...   \n",
              "1                  Yes      Yes  25.221799                  No  ...   \n",
              "2                   No       No  29.855447                  No  ...   \n",
              "3                  Yes       No  24.130477                 Yes  ...   \n",
              "4                  Yes      Yes  20.486289                 Yes  ...   \n",
              "\n",
              "  High LDL Cholesterol Alcohol Consumption Stress Level Sleep Hours  \\\n",
              "0                   No                High       Medium    7.633228   \n",
              "1                   No              Medium         High    8.744034   \n",
              "2                  Yes                 Low          Low    4.440440   \n",
              "3                  Yes                 Low         High    5.249405   \n",
              "4                   No                 Low         High    7.030971   \n",
              "\n",
              "   Sugar Consumption Triglyceride Level  Fasting Blood Sugar  CRP Level  \\\n",
              "0             Medium              342.0                  NaN  12.969246   \n",
              "1             Medium              133.0                157.0   9.355389   \n",
              "2                Low              393.0                 92.0  12.709873   \n",
              "3               High              293.0                 94.0  12.509046   \n",
              "4               High              263.0                154.0  10.381259   \n",
              "\n",
              "   Homocysteine Level  Heart Disease Status  \n",
              "0           12.387250                    No  \n",
              "1           19.298875                    No  \n",
              "2           11.230926                    No  \n",
              "3            5.961958                    No  \n",
              "4            8.153887                    No  \n",
              "\n",
              "[5 rows x 21 columns]"
            ]
          },
          "execution_count": 12,
          "metadata": {},
          "output_type": "execute_result"
        }
      ],
      "source": [
        "# importing necessary libraries\n",
        "import pandas as pd\n",
        "import numpy as np\n",
        "import seaborn as sns\n",
        "import matplotlib as plt\n",
        "import plotly as px\n",
        "\n",
        "# using pandas library to read the csv data in\n",
        "df_full = pd.read_csv('/workspace/heart-disease-data-hackathon-1/jupyter_notebooks/heart_disease.csv')\n",
        "\n",
        "# truncating dataset\n",
        "df = df_full.head(300)\n",
        "\n",
        "# displaying the first 5 rows\n",
        "df.head()\n"
      ]
    },
    {
      "cell_type": "markdown",
      "metadata": {
        "id": "ZY3l0-AxO93d"
      },
      "source": [
        "---"
      ]
    },
    {
      "cell_type": "markdown",
      "metadata": {},
      "source": [
        "## 1.2 Transform: Data cleaning & Pre-processing\n",
        "\n",
        "* This section involves handling missing, duplicate and invalid values.\n",
        "* Checks will be done to ensure each attribute has a data type suitable for further analysis.\n",
        "* Outlier values will be identified and discarded."
      ]
    },
    {
      "cell_type": "markdown",
      "metadata": {},
      "source": [
        "#### 1.2.1 Overview of initial state of dataset"
      ]
    },
    {
      "cell_type": "code",
      "execution_count": 13,
      "metadata": {},
      "outputs": [
        {
          "data": {
            "text/plain": [
              "(300, 21)"
            ]
          },
          "execution_count": 13,
          "metadata": {},
          "output_type": "execute_result"
        }
      ],
      "source": [
        "# overview of rows and columns of the data\n",
        "df.shape"
      ]
    },
    {
      "cell_type": "code",
      "execution_count": 14,
      "metadata": {},
      "outputs": [
        {
          "data": {
            "text/plain": [
              "Age                     float64\n",
              "Gender                   object\n",
              "Blood Pressure          float64\n",
              "Cholesterol Level       float64\n",
              "Exercise Habits          object\n",
              "Smoking                  object\n",
              "Family Heart Disease     object\n",
              "Diabetes                 object\n",
              "BMI                     float64\n",
              "High Blood Pressure      object\n",
              "Low HDL Cholesterol      object\n",
              "High LDL Cholesterol     object\n",
              "Alcohol Consumption      object\n",
              "Stress Level             object\n",
              "Sleep Hours             float64\n",
              "Sugar Consumption        object\n",
              "Triglyceride Level      float64\n",
              "Fasting Blood Sugar     float64\n",
              "CRP Level               float64\n",
              "Homocysteine Level      float64\n",
              "Heart Disease Status     object\n",
              "dtype: object"
            ]
          },
          "execution_count": 14,
          "metadata": {},
          "output_type": "execute_result"
        }
      ],
      "source": [
        "# check data types of each column\n",
        "df.dtypes"
      ]
    },
    {
      "cell_type": "markdown",
      "metadata": {},
      "source": [
        "Having cross referenced against the data columns,  each attribute has a valid data type for processing - attributes consist of categorical attributes (object) and numerical attributes (float64) inline with expected values"
      ]
    },
    {
      "cell_type": "markdown",
      "metadata": {},
      "source": [
        "#### 1.2.2 Identifying missing & duplicate data"
      ]
    },
    {
      "cell_type": "code",
      "execution_count": 15,
      "metadata": {},
      "outputs": [
        {
          "data": {
            "text/plain": [
              "Age                     0\n",
              "Gender                  0\n",
              "Blood Pressure          2\n",
              "Cholesterol Level       4\n",
              "Exercise Habits         0\n",
              "Smoking                 1\n",
              "Family Heart Disease    1\n",
              "Diabetes                1\n",
              "BMI                     2\n",
              "High Blood Pressure     1\n",
              "Low HDL Cholesterol     1\n",
              "High LDL Cholesterol    0\n",
              "Alcohol Consumption     1\n",
              "Stress Level            3\n",
              "Sleep Hours             1\n",
              "Sugar Consumption       2\n",
              "Triglyceride Level      1\n",
              "Fasting Blood Sugar     2\n",
              "CRP Level               3\n",
              "Homocysteine Level      1\n",
              "Heart Disease Status    0\n",
              "dtype: int64"
            ]
          },
          "execution_count": 15,
          "metadata": {},
          "output_type": "execute_result"
        }
      ],
      "source": [
        "# Identifying missing values\n",
        "df.isnull().sum()"
      ]
    },
    {
      "cell_type": "code",
      "execution_count": 17,
      "metadata": {},
      "outputs": [
        {
          "data": {
            "text/plain": [
              "(273, 21)"
            ]
          },
          "execution_count": 17,
          "metadata": {},
          "output_type": "execute_result"
        }
      ],
      "source": [
        "# having identified our missing values we will use the dropna function to remove the rows containing missing values.\n",
        "df = df.dropna()\n",
        "\n",
        "# to confirm this action we will check for null values and view the shape of the data to verify this.\n",
        "df.isnull().sum()\n",
        "df.shape"
      ]
    },
    {
      "cell_type": "code",
      "execution_count": 20,
      "metadata": {},
      "outputs": [
        {
          "data": {
            "text/plain": [
              "0"
            ]
          },
          "execution_count": 20,
          "metadata": {},
          "output_type": "execute_result"
        }
      ],
      "source": [
        "# checking for duplicates\n",
        "duplicate_data = df.duplicated().sum()\n",
        "duplicate_data"
      ]
    },
    {
      "cell_type": "markdown",
      "metadata": {},
      "source": [
        "Here we have verified that there are no longer rows with missing values or duplicate rows."
      ]
    },
    {
      "cell_type": "markdown",
      "metadata": {},
      "source": [
        "#### 1.2.3 Identifying outliers within the data"
      ]
    },
    {
      "cell_type": "markdown",
      "metadata": {},
      "source": [
        "## 1.3 Load: Storing Processed Data into CSV\n",
        "\n",
        "* This section involves...."
      ]
    },
    {
      "cell_type": "markdown",
      "metadata": {},
      "source": [
        "# Section 2: Visualising data using matplotlib, seaborn & plotly"
      ]
    }
  ],
  "metadata": {
    "accelerator": "GPU",
    "colab": {
      "name": "Data Practitioner Jupyter Notebook.ipynb",
      "provenance": [],
      "toc_visible": true
    },
    "kernelspec": {
      "display_name": "Python 3",
      "language": "python",
      "name": "python3"
    },
    "language_info": {
      "codemirror_mode": {
        "name": "ipython",
        "version": 3
      },
      "file_extension": ".py",
      "mimetype": "text/x-python",
      "name": "python",
      "nbconvert_exporter": "python",
      "pygments_lexer": "ipython3",
      "version": "3.9.20"
    },
    "orig_nbformat": 2
  },
  "nbformat": 4,
  "nbformat_minor": 2
}
